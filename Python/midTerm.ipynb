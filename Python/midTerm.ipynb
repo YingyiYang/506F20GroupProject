{
 "cells": [
  {
   "cell_type": "code",
   "execution_count": 1,
   "metadata": {},
   "outputs": [],
   "source": [
    "import pandas as pd\n",
    "from datetime import datetime\n",
    "import numpy as np\n",
    "import statsmodels.api as sm\n",
    "from matplotlib.backends.backend_pdf import PdfPages\n",
    "import matplotlib.pyplot as plt\n",
    "import matplotlib.dates as mdates\n",
    "import termplotlib as tpl\n",
    "import os"
   ]
  },
  {
   "cell_type": "markdown",
   "metadata": {},
   "source": [
    "### 1. Data preprocessing "
   ]
  },
  {
   "cell_type": "code",
   "execution_count": 5,
   "metadata": {},
   "outputs": [],
   "source": [
    "url = \"https://raw.githubusercontent.com/aravind1338/506F20GroupProject/main/master.csv\"\n",
    "df = pd.read_csv(url, index_col=0)"
   ]
  },
  {
   "cell_type": "code",
   "execution_count": 7,
   "metadata": {},
   "outputs": [
    {
     "data": {
      "text/plain": [
       "(27820, 11)"
      ]
     },
     "execution_count": 7,
     "metadata": {},
     "output_type": "execute_result"
    }
   ],
   "source": [
    "df.shape"
   ]
  },
  {
   "cell_type": "code",
   "execution_count": 8,
   "metadata": {},
   "outputs": [
    {
     "data": {
      "text/plain": [
       "Index(['year', 'sex', 'age', 'suicides_no', 'population', 'suicides/100k pop',\n",
       "       'country-year', 'HDI for year', ' gdp_for_year ($) ',\n",
       "       'gdp_per_capita ($)', 'generation'],\n",
       "      dtype='object')"
      ]
     },
     "execution_count": 8,
     "metadata": {},
     "output_type": "execute_result"
    }
   ],
   "source": [
    "df.columns"
   ]
  },
  {
   "cell_type": "code",
   "execution_count": 17,
   "metadata": {},
   "outputs": [],
   "source": [
    "df.rename(columns = {\"suicides/100k pop\": \"suicides_per_100k\", \"gdp_per_capita ($)\": \"gdp_per_capita\"}, inplace=True)"
   ]
  },
  {
   "cell_type": "code",
   "execution_count": 18,
   "metadata": {},
   "outputs": [
    {
     "data": {
      "text/html": [
       "<div>\n",
       "<style scoped>\n",
       "    .dataframe tbody tr th:only-of-type {\n",
       "        vertical-align: middle;\n",
       "    }\n",
       "\n",
       "    .dataframe tbody tr th {\n",
       "        vertical-align: top;\n",
       "    }\n",
       "\n",
       "    .dataframe thead th {\n",
       "        text-align: right;\n",
       "    }\n",
       "</style>\n",
       "<table border=\"1\" class=\"dataframe\">\n",
       "  <thead>\n",
       "    <tr style=\"text-align: right;\">\n",
       "      <th></th>\n",
       "      <th>country</th>\n",
       "      <th>year</th>\n",
       "      <th>sex</th>\n",
       "      <th>age</th>\n",
       "      <th>suicides_no</th>\n",
       "      <th>population</th>\n",
       "      <th>suicides_per_100k</th>\n",
       "      <th>country-year</th>\n",
       "      <th>HDI for year</th>\n",
       "      <th>gdp_for_year ($)</th>\n",
       "      <th>gdp_per_capita</th>\n",
       "      <th>generation</th>\n",
       "    </tr>\n",
       "  </thead>\n",
       "  <tbody>\n",
       "    <tr>\n",
       "      <th>0</th>\n",
       "      <td>Albania</td>\n",
       "      <td>1987</td>\n",
       "      <td>male</td>\n",
       "      <td>15-24 years</td>\n",
       "      <td>21</td>\n",
       "      <td>312900</td>\n",
       "      <td>6.71</td>\n",
       "      <td>Albania1987</td>\n",
       "      <td>NaN</td>\n",
       "      <td>2,156,624,900</td>\n",
       "      <td>796</td>\n",
       "      <td>Generation X</td>\n",
       "    </tr>\n",
       "    <tr>\n",
       "      <th>1</th>\n",
       "      <td>Albania</td>\n",
       "      <td>1987</td>\n",
       "      <td>male</td>\n",
       "      <td>35-54 years</td>\n",
       "      <td>16</td>\n",
       "      <td>308000</td>\n",
       "      <td>5.19</td>\n",
       "      <td>Albania1987</td>\n",
       "      <td>NaN</td>\n",
       "      <td>2,156,624,900</td>\n",
       "      <td>796</td>\n",
       "      <td>Silent</td>\n",
       "    </tr>\n",
       "    <tr>\n",
       "      <th>2</th>\n",
       "      <td>Albania</td>\n",
       "      <td>1987</td>\n",
       "      <td>female</td>\n",
       "      <td>15-24 years</td>\n",
       "      <td>14</td>\n",
       "      <td>289700</td>\n",
       "      <td>4.83</td>\n",
       "      <td>Albania1987</td>\n",
       "      <td>NaN</td>\n",
       "      <td>2,156,624,900</td>\n",
       "      <td>796</td>\n",
       "      <td>Generation X</td>\n",
       "    </tr>\n",
       "    <tr>\n",
       "      <th>3</th>\n",
       "      <td>Albania</td>\n",
       "      <td>1987</td>\n",
       "      <td>male</td>\n",
       "      <td>75+ years</td>\n",
       "      <td>1</td>\n",
       "      <td>21800</td>\n",
       "      <td>4.59</td>\n",
       "      <td>Albania1987</td>\n",
       "      <td>NaN</td>\n",
       "      <td>2,156,624,900</td>\n",
       "      <td>796</td>\n",
       "      <td>G.I. Generation</td>\n",
       "    </tr>\n",
       "    <tr>\n",
       "      <th>4</th>\n",
       "      <td>Albania</td>\n",
       "      <td>1987</td>\n",
       "      <td>male</td>\n",
       "      <td>25-34 years</td>\n",
       "      <td>9</td>\n",
       "      <td>274300</td>\n",
       "      <td>3.28</td>\n",
       "      <td>Albania1987</td>\n",
       "      <td>NaN</td>\n",
       "      <td>2,156,624,900</td>\n",
       "      <td>796</td>\n",
       "      <td>Boomers</td>\n",
       "    </tr>\n",
       "  </tbody>\n",
       "</table>\n",
       "</div>"
      ],
      "text/plain": [
       "   country  year     sex          age  suicides_no  population  \\\n",
       "0  Albania  1987    male  15-24 years           21      312900   \n",
       "1  Albania  1987    male  35-54 years           16      308000   \n",
       "2  Albania  1987  female  15-24 years           14      289700   \n",
       "3  Albania  1987    male    75+ years            1       21800   \n",
       "4  Albania  1987    male  25-34 years            9      274300   \n",
       "\n",
       "   suicides_per_100k country-year  HDI for year  gdp_for_year ($)   \\\n",
       "0               6.71  Albania1987           NaN      2,156,624,900   \n",
       "1               5.19  Albania1987           NaN      2,156,624,900   \n",
       "2               4.83  Albania1987           NaN      2,156,624,900   \n",
       "3               4.59  Albania1987           NaN      2,156,624,900   \n",
       "4               3.28  Albania1987           NaN      2,156,624,900   \n",
       "\n",
       "   gdp_per_capita       generation  \n",
       "0             796     Generation X  \n",
       "1             796           Silent  \n",
       "2             796     Generation X  \n",
       "3             796  G.I. Generation  \n",
       "4             796          Boomers  "
      ]
     },
     "execution_count": 18,
     "metadata": {},
     "output_type": "execute_result"
    }
   ],
   "source": [
    "df.head()"
   ]
  },
  {
   "cell_type": "code",
   "execution_count": 11,
   "metadata": {},
   "outputs": [
    {
     "data": {
      "text/plain": [
       "country\n",
       "Albania    15-24 years\n",
       "Albania    35-54 years\n",
       "Albania      75+ years\n",
       "Albania    25-34 years\n",
       "Albania    55-74 years\n",
       "Albania     5-14 years\n",
       "Name: age, dtype: object"
      ]
     },
     "execution_count": 11,
     "metadata": {},
     "output_type": "execute_result"
    }
   ],
   "source": [
    "df.age.drop_duplicates()"
   ]
  },
  {
   "cell_type": "code",
   "execution_count": 12,
   "metadata": {},
   "outputs": [
    {
     "data": {
      "text/plain": [
       "Index(['Albania', 'Antigua and Barbuda', 'Argentina', 'Armenia', 'Aruba',\n",
       "       'Australia', 'Austria', 'Azerbaijan', 'Bahamas', 'Bahrain',\n",
       "       ...\n",
       "       'Thailand', 'Trinidad and Tobago', 'Turkey', 'Turkmenistan', 'Ukraine',\n",
       "       'United Arab Emirates', 'United Kingdom', 'United States', 'Uruguay',\n",
       "       'Uzbekistan'],\n",
       "      dtype='object', name='country', length=101)"
      ]
     },
     "execution_count": 12,
     "metadata": {},
     "output_type": "execute_result"
    }
   ],
   "source": [
    "df.index.drop_duplicates()"
   ]
  },
  {
   "cell_type": "code",
   "execution_count": 13,
   "metadata": {},
   "outputs": [
    {
     "data": {
      "text/plain": [
       "country\n",
       "Albania       Generation X\n",
       "Albania             Silent\n",
       "Albania    G.I. Generation\n",
       "Albania            Boomers\n",
       "Albania         Millenials\n",
       "Albania       Generation Z\n",
       "Name: generation, dtype: object"
      ]
     },
     "execution_count": 13,
     "metadata": {},
     "output_type": "execute_result"
    }
   ],
   "source": [
    "df.generation.drop_duplicates()"
   ]
  },
  {
   "cell_type": "code",
   "execution_count": 16,
   "metadata": {},
   "outputs": [],
   "source": [
    "df.reset_index(inplace = True)"
   ]
  },
  {
   "cell_type": "markdown",
   "metadata": {},
   "source": [
    "### 2. Linear combination "
   ]
  },
  {
   "cell_type": "code",
   "execution_count": 19,
   "metadata": {},
   "outputs": [
    {
     "name": "stdout",
     "output_type": "stream",
     "text": [
      "                 Generalized Linear Model Regression Results                  \n",
      "==============================================================================\n",
      "Dep. Variable:            suicides_no   No. Observations:                27820\n",
      "Model:                            GLM   Df Residuals:                    27713\n",
      "Model Family:                 Poisson   Df Model:                          106\n",
      "Link Function:                    log   Scale:                          52.071\n",
      "Method:                          IRLS   Log-Likelihood:                -13611.\n",
      "Date:                Wed, 11 Nov 2020   Deviance:                   1.2869e+06\n",
      "Time:                        17:37:30   Pearson chi2:                 1.44e+06\n",
      "No. Iterations:                    24                                         \n",
      "Covariance Type:            nonrobust                                         \n",
      "============================================================================================================\n",
      "                                               coef    std err          z      P>|z|      [0.025      0.975]\n",
      "------------------------------------------------------------------------------------------------------------\n",
      "C(country)[Albania]                          0.9080      0.163      5.576      0.000       0.589       1.227\n",
      "C(country)[Antigua and Barbuda]             -4.4847      2.176     -2.061      0.039      -8.749      -0.220\n",
      "C(country)[Argentina]                        4.2964      0.027    160.598      0.000       4.244       4.349\n",
      "C(country)[Armenia]                          0.7469      0.166      4.511      0.000       0.422       1.071\n",
      "C(country)[Aruba]                           -1.6107      0.718     -2.243      0.025      -3.018      -0.203\n",
      "C(country)[Australia]                        4.1698      0.029    145.170      0.000       4.114       4.226\n",
      "C(country)[Austria]                          3.7690      0.034    112.505      0.000       3.703       3.835\n",
      "C(country)[Azerbaijan]                       1.0528      0.178      5.929      0.000       0.705       1.401\n",
      "C(country)[Bahamas]                         -2.1897      0.748     -2.926      0.003      -3.656      -0.723\n",
      "C(country)[Bahrain]                         -0.4936      0.335     -1.471      0.141      -1.151       0.164\n",
      "C(country)[Barbados]                        -1.6295      0.542     -3.004      0.003      -2.693      -0.566\n",
      "C(country)[Belarus]                          4.3690      0.031    141.616      0.000       4.309       4.429\n",
      "C(country)[Belgium]                          4.0263      0.030    133.322      0.000       3.967       4.086\n",
      "C(country)[Belize]                          -1.0668      0.387     -2.757      0.006      -1.825      -0.308\n",
      "C(country)[Bosnia and Herzegovina]           1.4821      0.405      3.662      0.000       0.689       2.275\n",
      "C(country)[Brazil]                           5.3102      0.018    300.564      0.000       5.276       5.345\n",
      "C(country)[Bulgaria]                         3.5140      0.039     90.330      0.000       3.438       3.590\n",
      "C(country)[Cabo Verde]                       0.1509      1.113      0.136      0.892      -2.032       2.333\n",
      "C(country)[Canada]                           4.6317      0.024    194.605      0.000       4.585       4.678\n",
      "C(country)[Chile]                            3.5980      0.037     97.720      0.000       3.526       3.670\n",
      "C(country)[Colombia]                         3.8588      0.033    118.334      0.000       3.795       3.923\n",
      "C(country)[Costa Rica]                       1.8355      0.088     20.851      0.000       1.663       2.008\n",
      "C(country)[Croatia]                          3.1442      0.054     58.307      0.000       3.039       3.250\n",
      "C(country)[Cuba]                             3.8666      0.037    105.645      0.000       3.795       3.938\n",
      "C(country)[Cyprus]                          -0.2733      0.356     -0.768      0.442      -0.970       0.424\n",
      "C(country)[Czech Republic]                   3.8025      0.036    106.521      0.000       3.733       3.872\n",
      "C(country)[Denmark]                          2.9576      0.059     50.090      0.000       2.842       3.073\n",
      "C(country)[Dominica]                       -20.0651   1.66e+04     -0.001      0.999   -3.25e+04    3.25e+04\n",
      "C(country)[Ecuador]                          2.9152      0.051     57.141      0.000       2.815       3.015\n",
      "C(country)[El Salvador]                      2.6010      0.067     38.606      0.000       2.469       2.733\n",
      "C(country)[Estonia]                          2.2272      0.087     25.743      0.000       2.058       2.397\n",
      "C(country)[Fiji]                            -0.2677      0.414     -0.647      0.518      -1.079       0.544\n",
      "C(country)[Finland]                          3.4705      0.040     85.998      0.000       3.391       3.550\n",
      "C(country)[France]                           5.7162      0.016    368.543      0.000       5.686       5.747\n",
      "C(country)[Georgia]                          1.4005      0.127     10.992      0.000       1.151       1.650\n",
      "C(country)[Germany]                          5.7371      0.016    355.023      0.000       5.705       5.769\n",
      "C(country)[Greece]                           2.4021      0.066     36.663      0.000       2.274       2.531\n",
      "C(country)[Grenada]                         -3.2070      1.171     -2.740      0.006      -5.501      -0.913\n",
      "C(country)[Guatemala]                        2.0177      0.080     25.080      0.000       1.860       2.175\n",
      "C(country)[Guyana]                           1.3335      0.124     10.787      0.000       1.091       1.576\n",
      "C(country)[Hungary]                          4.3658      0.028    155.617      0.000       4.311       4.421\n",
      "C(country)[Iceland]                         -0.0420      0.217     -0.193      0.847      -0.467       0.383\n",
      "C(country)[Ireland]                          2.4514      0.065     37.720      0.000       2.324       2.579\n",
      "C(country)[Israel]                           2.3113      0.069     33.739      0.000       2.177       2.446\n",
      "C(country)[Italy]                            4.7702      0.022    218.492      0.000       4.727       4.813\n",
      "C(country)[Jamaica]                         -1.2051      0.532     -2.265      0.024      -2.248      -0.162\n",
      "C(country)[Japan]                            6.5802      0.012    542.924      0.000       6.556       6.604\n",
      "C(country)[Kazakhstan]                       4.6834      0.024    191.976      0.000       4.636       4.731\n",
      "C(country)[Kiribati]                        -2.0144      0.991     -2.032      0.042      -3.957      -0.072\n",
      "C(country)[Kuwait]                           0.0675      0.232      0.291      0.771      -0.388       0.523\n",
      "C(country)[Kyrgyzstan]                       2.6347      0.064     41.348      0.000       2.510       2.760\n",
      "C(country)[Latvia]                           2.8235      0.064     43.777      0.000       2.697       2.950\n",
      "C(country)[Lithuania]                        3.5639      0.044     80.925      0.000       3.478       3.650\n",
      "C(country)[Luxembourg]                       0.5589      0.163      3.422      0.001       0.239       0.879\n",
      "C(country)[Macau]                           -0.2910      1.389     -0.210      0.834      -3.013       2.431\n",
      "C(country)[Maldives]                        -2.8936      1.614     -1.793      0.073      -6.056       0.269\n",
      "C(country)[Malta]                           -0.6492      0.298     -2.175      0.030      -1.234      -0.064\n",
      "C(country)[Mauritius]                        1.2149      0.116     10.474      0.000       0.988       1.442\n",
      "C(country)[Mexico]                           4.5978      0.023    195.892      0.000       4.552       4.644\n",
      "C(country)[Mongolia]                         2.4684      0.351      7.033      0.000       1.780       3.156\n",
      "C(country)[Montenegro]                       0.2676      0.332      0.805      0.421      -0.384       0.919\n",
      "C(country)[Netherlands]                      3.7840      0.033    113.746      0.000       3.719       3.849\n",
      "C(country)[New Zealand]                      2.6197      0.061     43.052      0.000       2.500       2.739\n",
      "C(country)[Nicaragua]                        2.2288      0.161     13.836      0.000       1.913       2.545\n",
      "C(country)[Norway]                           2.7525      0.056     49.067      0.000       2.643       2.862\n",
      "C(country)[Oman]                            -1.1889      1.256     -0.946      0.344      -3.651       1.273\n",
      "C(country)[Panama]                           1.3500      0.123     11.011      0.000       1.110       1.590\n",
      "C(country)[Paraguay]                         1.5902      0.105     15.183      0.000       1.385       1.795\n",
      "C(country)[Philippines]                      3.6730      0.050     73.116      0.000       3.575       3.771\n",
      "C(country)[Poland]                           5.0781      0.021    237.619      0.000       5.036       5.120\n",
      "C(country)[Portugal]                         3.2057      0.047     67.635      0.000       3.113       3.299\n",
      "C(country)[Puerto Rico]                      2.0890      0.076     27.334      0.000       1.939       2.239\n",
      "C(country)[Qatar]                            0.0583      0.301      0.194      0.847      -0.532       0.649\n",
      "C(country)[Republic of Korea]                5.4543      0.017    325.196      0.000       5.421       5.487\n",
      "C(country)[Romania]                          4.2764      0.028    151.399      0.000       4.221       4.332\n",
      "C(country)[Russian Federation]               7.1233      0.011    636.103      0.000       7.101       7.145\n",
      "C(country)[Saint Kitts and Nevis]          -20.0651   9567.770     -0.002      0.998   -1.88e+04    1.87e+04\n",
      "C(country)[Saint Lucia]                     -1.4809      0.476     -3.112      0.002      -2.414      -0.548\n",
      "C(country)[Saint Vincent and Grenadines]    -1.9854      0.648     -3.063      0.002      -3.256      -0.715\n",
      "C(country)[San Marino]                      -3.2991      3.608     -0.914      0.361     -10.371       3.773\n",
      "C(country)[Serbia]                           3.6161      0.047     76.473      0.000       3.523       3.709\n",
      "C(country)[Seychelles]                      -1.8922      0.729     -2.596      0.009      -3.321      -0.463\n",
      "C(country)[Singapore]                        2.1984      0.072     30.360      0.000       2.056       2.340\n",
      "C(country)[Slovakia]                         2.8279      0.063     44.953      0.000       2.705       2.951\n",
      "C(country)[Slovenia]                         2.6387      0.071     37.363      0.000       2.500       2.777\n",
      "C(country)[South Africa]                     2.3160      0.085     27.304      0.000       2.150       2.482\n",
      "C(country)[Spain]                            4.4942      0.025    183.165      0.000       4.446       4.542\n",
      "C(country)[Sri Lanka]                        4.9420      0.032    154.876      0.000       4.879       5.005\n",
      "C(country)[Suriname]                         0.7616      0.155      4.904      0.000       0.457       1.066\n",
      "C(country)[Sweden]                           3.5522      0.038     92.963      0.000       3.477       3.627\n",
      "C(country)[Switzerland]                      3.5429      0.045     77.897      0.000       3.454       3.632\n",
      "C(country)[Thailand]                         4.6953      0.024    199.670      0.000       4.649       4.741\n",
      "C(country)[Trinidad and Tobago]              1.4211      0.114     12.476      0.000       1.198       1.644\n",
      "C(country)[Turkey]                           3.6907      0.072     51.071      0.000       3.549       3.832\n",
      "C(country)[Turkmenistan]                     2.1082      0.078     26.948      0.000       1.955       2.262\n",
      "C(country)[Ukraine]                          5.7569      0.016    367.716      0.000       5.726       5.788\n",
      "C(country)[United Arab Emirates]             1.0544      0.289      3.642      0.000       0.487       1.622\n",
      "C(country)[United Kingdom]                   4.8055      0.022    223.336      0.000       4.763       4.848\n",
      "C(country)[United States]                    6.8282      0.012    592.707      0.000       6.806       6.851\n",
      "C(country)[Uruguay]                          2.5643      0.064     40.315      0.000       2.440       2.689\n",
      "C(country)[Uzbekistan]                       3.7796      0.040     95.131      0.000       3.702       3.857\n",
      "C(sex)[T.male]                               1.2022      0.007    182.428      0.000       1.189       1.215\n",
      "C(age)[T.25-34 years]                        0.3293      0.011     31.297      0.000       0.309       0.350\n",
      "C(age)[T.35-54 years]                        1.1095      0.009    119.892      0.000       1.091       1.128\n",
      "C(age)[T.5-14 years]                        -2.7362      0.033    -84.014      0.000      -2.800      -2.672\n",
      "C(age)[T.55-74 years]                        0.7184      0.010     73.398      0.000       0.699       0.738\n",
      "C(age)[T.75+ years]                         -0.2135      0.012    -17.782      0.000      -0.237      -0.190\n",
      "============================================================================================================\n"
     ]
    }
   ],
   "source": [
    "fml = \"suicides_no ~ 0 + C(country) + C(sex) + C(age)\"\n",
    "m1 = sm.GLM.from_formula(fml, data=df, family=sm.families.Poisson())\n",
    "r1 = m1.fit(scale=\"X2\")\n",
    "print(r1.summary())"
   ]
  },
  {
   "cell_type": "code",
   "execution_count": 21,
   "metadata": {},
   "outputs": [
    {
     "data": {
      "text/html": [
       "<div>\n",
       "<style scoped>\n",
       "    .dataframe tbody tr th:only-of-type {\n",
       "        vertical-align: middle;\n",
       "    }\n",
       "\n",
       "    .dataframe tbody tr th {\n",
       "        vertical-align: top;\n",
       "    }\n",
       "\n",
       "    .dataframe thead th {\n",
       "        text-align: right;\n",
       "    }\n",
       "</style>\n",
       "<table border=\"1\" class=\"dataframe\">\n",
       "  <thead>\n",
       "    <tr style=\"text-align: right;\">\n",
       "      <th></th>\n",
       "      <th>sex_female</th>\n",
       "      <th>sex_male</th>\n",
       "    </tr>\n",
       "  </thead>\n",
       "  <tbody>\n",
       "    <tr>\n",
       "      <th>0</th>\n",
       "      <td>0</td>\n",
       "      <td>1</td>\n",
       "    </tr>\n",
       "    <tr>\n",
       "      <th>1</th>\n",
       "      <td>0</td>\n",
       "      <td>1</td>\n",
       "    </tr>\n",
       "    <tr>\n",
       "      <th>2</th>\n",
       "      <td>1</td>\n",
       "      <td>0</td>\n",
       "    </tr>\n",
       "    <tr>\n",
       "      <th>3</th>\n",
       "      <td>0</td>\n",
       "      <td>1</td>\n",
       "    </tr>\n",
       "    <tr>\n",
       "      <th>4</th>\n",
       "      <td>0</td>\n",
       "      <td>1</td>\n",
       "    </tr>\n",
       "    <tr>\n",
       "      <th>...</th>\n",
       "      <td>...</td>\n",
       "      <td>...</td>\n",
       "    </tr>\n",
       "    <tr>\n",
       "      <th>27815</th>\n",
       "      <td>1</td>\n",
       "      <td>0</td>\n",
       "    </tr>\n",
       "    <tr>\n",
       "      <th>27816</th>\n",
       "      <td>1</td>\n",
       "      <td>0</td>\n",
       "    </tr>\n",
       "    <tr>\n",
       "      <th>27817</th>\n",
       "      <td>0</td>\n",
       "      <td>1</td>\n",
       "    </tr>\n",
       "    <tr>\n",
       "      <th>27818</th>\n",
       "      <td>1</td>\n",
       "      <td>0</td>\n",
       "    </tr>\n",
       "    <tr>\n",
       "      <th>27819</th>\n",
       "      <td>1</td>\n",
       "      <td>0</td>\n",
       "    </tr>\n",
       "  </tbody>\n",
       "</table>\n",
       "<p>27820 rows × 2 columns</p>\n",
       "</div>"
      ],
      "text/plain": [
       "       sex_female  sex_male\n",
       "0               0         1\n",
       "1               0         1\n",
       "2               1         0\n",
       "3               0         1\n",
       "4               0         1\n",
       "...           ...       ...\n",
       "27815           1         0\n",
       "27816           1         0\n",
       "27817           0         1\n",
       "27818           1         0\n",
       "27819           1         0\n",
       "\n",
       "[27820 rows x 2 columns]"
      ]
     },
     "execution_count": 21,
     "metadata": {},
     "output_type": "execute_result"
    }
   ],
   "source": [
    "gender = pd.get_dummies(df[['sex']])\n",
    "gender"
   ]
  }
 ],
 "metadata": {
  "kernelspec": {
   "display_name": "Python 3",
   "language": "python",
   "name": "python3"
  },
  "language_info": {
   "codemirror_mode": {
    "name": "ipython",
    "version": 3
   },
   "file_extension": ".py",
   "mimetype": "text/x-python",
   "name": "python",
   "nbconvert_exporter": "python",
   "pygments_lexer": "ipython3",
   "version": "3.7.7"
  }
 },
 "nbformat": 4,
 "nbformat_minor": 4
}
